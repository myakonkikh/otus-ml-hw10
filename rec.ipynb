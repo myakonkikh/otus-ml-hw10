{
 "cells": [
  {
   "cell_type": "code",
   "execution_count": 1,
   "metadata": {},
   "outputs": [],
   "source": [
    "import numpy as np\n",
    "import pandas as pd"
   ]
  },
  {
   "cell_type": "markdown",
   "metadata": {},
   "source": [
    "## Метрики"
   ]
  },
  {
   "cell_type": "code",
   "execution_count": 2,
   "metadata": {},
   "outputs": [],
   "source": [
    "def mrr(df: pd.DataFrame, pred_col='preds', true_col='true') -> float:\n",
    "    mrr_values = []\n",
    "    for _, row in df.iterrows():\n",
    "      try:\n",
    "        user_mrr = 1 / (row[pred_col].index(row[true_col]) + 1)\n",
    "      except ValueError:\n",
    "        user_mrr = 0\n",
    "      mrr_values.append(user_mrr)\n",
    "    return np.mean(mrr_values)"
   ]
  },
  {
   "cell_type": "code",
   "execution_count": 3,
   "metadata": {},
   "outputs": [],
   "source": [
    "def hr(df: pd.DataFrame, pred_col='preds', true_col='true') -> float:\n",
    "    hr_values = []\n",
    "    for _, row in df.iterrows():\n",
    "      hr_values.append(int(row[true_col] in row[pred_col]))\n",
    "    return np.mean(hr_values)"
   ]
  },
  {
   "cell_type": "code",
   "execution_count": 4,
   "metadata": {},
   "outputs": [],
   "source": [
    "def ndcg(df: pd.DataFrame, pred_col='preds', true_col='true') -> float:\n",
    "    # ideal dcg == 1 при стратегии разделения leave-one-out\n",
    "    ndcg_values = []\n",
    "    for _, row in df.iterrows():\n",
    "      try:\n",
    "        user_ndcg = 1 / np.log2(row[pred_col].index(row[true_col]) + 2)\n",
    "      except ValueError:\n",
    "        user_ndcg = 0\n",
    "      ndcg_values.append(user_ndcg)\n",
    "    return np.mean(ndcg_values)"
   ]
  },
  {
   "cell_type": "code",
   "execution_count": 5,
   "metadata": {},
   "outputs": [],
   "source": [
    "def coverage(train_df: pd.DataFrame, pred_df: pd.DataFrame, item_id='item_id', pred_col='preds') -> float:\n",
    "    total_items_num = train_df[item_id].nunique()\n",
    "    pred_items_num = len(set.union(*pred_df[pred_col].map(lambda x: set(x))))\n",
    "    return pred_items_num / total_items_num"
   ]
  },
  {
   "cell_type": "code",
   "execution_count": 6,
   "metadata": {},
   "outputs": [],
   "source": [
    "def calculate_metrics(train_df: pd.DataFrame, pred_df: pd.DataFrame, item_id='item_id', true_col='true'):\n",
    "    print(f'mrr = {mrr(pred_df, true_col=true_col)}')\n",
    "    print(f'hr = {hr(pred_df, true_col=true_col)}')\n",
    "    print(f'ndcg = {ndcg(pred_df, true_col=true_col)}')\n",
    "    print(f'coverage = {coverage(train_df, pred_df, item_id=item_id)}')"
   ]
  },
  {
   "cell_type": "markdown",
   "metadata": {},
   "source": [
    "# EDA"
   ]
  },
  {
   "cell_type": "markdown",
   "metadata": {},
   "source": [
    "Рекомендательные системы будем строить на основе датасета amazon по проданному софту"
   ]
  },
  {
   "cell_type": "code",
   "execution_count": 7,
   "metadata": {},
   "outputs": [],
   "source": [
    "data = pd.read_csv('./Software.csv', header=None)\n",
    "data.columns = ['item_id', 'user_id', 'rating', 'timestamp']\n",
    "data['timestamp'] = pd.to_datetime(data['timestamp'], unit='s')"
   ]
  },
  {
   "cell_type": "code",
   "execution_count": 8,
   "metadata": {},
   "outputs": [],
   "source": [
    "data = data.drop_duplicates()"
   ]
  },
  {
   "cell_type": "code",
   "execution_count": 9,
   "metadata": {},
   "outputs": [],
   "source": [
    "meta_data = pd.read_json('./meta_Software.json.gz', lines=True)\n",
    "meta_data = meta_data.rename(columns={'asin': 'item_id'})"
   ]
  },
  {
   "cell_type": "code",
   "execution_count": 10,
   "metadata": {},
   "outputs": [],
   "source": [
    "data = data.merge(meta_data[['item_id', 'title']], how='right', on='item_id',)"
   ]
  },
  {
   "cell_type": "code",
   "execution_count": 11,
   "metadata": {},
   "outputs": [
    {
     "data": {
      "text/html": [
       "<div>\n",
       "<style scoped>\n",
       "    .dataframe tbody tr th:only-of-type {\n",
       "        vertical-align: middle;\n",
       "    }\n",
       "\n",
       "    .dataframe tbody tr th {\n",
       "        vertical-align: top;\n",
       "    }\n",
       "\n",
       "    .dataframe thead th {\n",
       "        text-align: right;\n",
       "    }\n",
       "</style>\n",
       "<table border=\"1\" class=\"dataframe\">\n",
       "  <thead>\n",
       "    <tr style=\"text-align: right;\">\n",
       "      <th></th>\n",
       "      <th>item_id</th>\n",
       "      <th>user_id</th>\n",
       "      <th>rating</th>\n",
       "      <th>timestamp</th>\n",
       "      <th>title</th>\n",
       "    </tr>\n",
       "  </thead>\n",
       "  <tbody>\n",
       "    <tr>\n",
       "      <th>0</th>\n",
       "      <td>0030672120</td>\n",
       "      <td>A15YSF93XJUR94</td>\n",
       "      <td>4.0</td>\n",
       "      <td>2016-10-29</td>\n",
       "      <td>HOLT PHYSICS LESSON PRESENTATION CD-ROM QUICK ...</td>\n",
       "    </tr>\n",
       "    <tr>\n",
       "      <th>1</th>\n",
       "      <td>0071480935</td>\n",
       "      <td>A2E7H1GZ49KT15</td>\n",
       "      <td>3.0</td>\n",
       "      <td>2014-08-28</td>\n",
       "      <td>Sing, Watch, &amp;amp; Learn Spanish (DVD + Guide)...</td>\n",
       "    </tr>\n",
       "    <tr>\n",
       "      <th>2</th>\n",
       "      <td>0071480935</td>\n",
       "      <td>A1OP7G76WA8IJ0</td>\n",
       "      <td>5.0</td>\n",
       "      <td>2014-01-02</td>\n",
       "      <td>Sing, Watch, &amp;amp; Learn Spanish (DVD + Guide)...</td>\n",
       "    </tr>\n",
       "    <tr>\n",
       "      <th>3</th>\n",
       "      <td>0071480935</td>\n",
       "      <td>A2AGDDGAV7XEHF</td>\n",
       "      <td>5.0</td>\n",
       "      <td>2011-08-06</td>\n",
       "      <td>Sing, Watch, &amp;amp; Learn Spanish (DVD + Guide)...</td>\n",
       "    </tr>\n",
       "    <tr>\n",
       "      <th>4</th>\n",
       "      <td>0071480935</td>\n",
       "      <td>AXRKS89VZWW4G</td>\n",
       "      <td>5.0</td>\n",
       "      <td>2008-07-12</td>\n",
       "      <td>Sing, Watch, &amp;amp; Learn Spanish (DVD + Guide)...</td>\n",
       "    </tr>\n",
       "    <tr>\n",
       "      <th>...</th>\n",
       "      <td>...</td>\n",
       "      <td>...</td>\n",
       "      <td>...</td>\n",
       "      <td>...</td>\n",
       "      <td>...</td>\n",
       "    </tr>\n",
       "    <tr>\n",
       "      <th>490913</th>\n",
       "      <td>B01HF3G4BS</td>\n",
       "      <td>A3VCFV8WEQG9R5</td>\n",
       "      <td>1.0</td>\n",
       "      <td>2018-03-01</td>\n",
       "      <td>Intego Mac Internet Security X9 - 1 Mac - 1 ye...</td>\n",
       "    </tr>\n",
       "    <tr>\n",
       "      <th>490914</th>\n",
       "      <td>B01HF3G4BS</td>\n",
       "      <td>A3DXGHJF6SOHNC</td>\n",
       "      <td>5.0</td>\n",
       "      <td>2017-12-02</td>\n",
       "      <td>Intego Mac Internet Security X9 - 1 Mac - 1 ye...</td>\n",
       "    </tr>\n",
       "    <tr>\n",
       "      <th>490915</th>\n",
       "      <td>B01HF41TKI</td>\n",
       "      <td>AGEWYJ2NF5C2H</td>\n",
       "      <td>2.0</td>\n",
       "      <td>2016-11-29</td>\n",
       "      <td>VersaCheck X9 Small and Medium Business 2016 3...</td>\n",
       "    </tr>\n",
       "    <tr>\n",
       "      <th>490916</th>\n",
       "      <td>B01HJAMWOK</td>\n",
       "      <td>A1WOS4D7QA06DO</td>\n",
       "      <td>5.0</td>\n",
       "      <td>2018-09-15</td>\n",
       "      <td>CNC Designs - Vector Graphics for Computer Con...</td>\n",
       "    </tr>\n",
       "    <tr>\n",
       "      <th>490917</th>\n",
       "      <td>B01HJAMWOK</td>\n",
       "      <td>A20SG9ZGIIFW69</td>\n",
       "      <td>5.0</td>\n",
       "      <td>2016-10-05</td>\n",
       "      <td>CNC Designs - Vector Graphics for Computer Con...</td>\n",
       "    </tr>\n",
       "  </tbody>\n",
       "</table>\n",
       "<p>490918 rows × 5 columns</p>\n",
       "</div>"
      ],
      "text/plain": [
       "           item_id         user_id  rating  timestamp  \\\n",
       "0       0030672120  A15YSF93XJUR94     4.0 2016-10-29   \n",
       "1       0071480935  A2E7H1GZ49KT15     3.0 2014-08-28   \n",
       "2       0071480935  A1OP7G76WA8IJ0     5.0 2014-01-02   \n",
       "3       0071480935  A2AGDDGAV7XEHF     5.0 2011-08-06   \n",
       "4       0071480935   AXRKS89VZWW4G     5.0 2008-07-12   \n",
       "...            ...             ...     ...        ...   \n",
       "490913  B01HF3G4BS  A3VCFV8WEQG9R5     1.0 2018-03-01   \n",
       "490914  B01HF3G4BS  A3DXGHJF6SOHNC     5.0 2017-12-02   \n",
       "490915  B01HF41TKI   AGEWYJ2NF5C2H     2.0 2016-11-29   \n",
       "490916  B01HJAMWOK  A1WOS4D7QA06DO     5.0 2018-09-15   \n",
       "490917  B01HJAMWOK  A20SG9ZGIIFW69     5.0 2016-10-05   \n",
       "\n",
       "                                                    title  \n",
       "0       HOLT PHYSICS LESSON PRESENTATION CD-ROM QUICK ...  \n",
       "1       Sing, Watch, &amp; Learn Spanish (DVD + Guide)...  \n",
       "2       Sing, Watch, &amp; Learn Spanish (DVD + Guide)...  \n",
       "3       Sing, Watch, &amp; Learn Spanish (DVD + Guide)...  \n",
       "4       Sing, Watch, &amp; Learn Spanish (DVD + Guide)...  \n",
       "...                                                   ...  \n",
       "490913  Intego Mac Internet Security X9 - 1 Mac - 1 ye...  \n",
       "490914  Intego Mac Internet Security X9 - 1 Mac - 1 ye...  \n",
       "490915  VersaCheck X9 Small and Medium Business 2016 3...  \n",
       "490916  CNC Designs - Vector Graphics for Computer Con...  \n",
       "490917  CNC Designs - Vector Graphics for Computer Con...  \n",
       "\n",
       "[490918 rows x 5 columns]"
      ]
     },
     "execution_count": 11,
     "metadata": {},
     "output_type": "execute_result"
    }
   ],
   "source": [
    "data"
   ]
  },
  {
   "cell_type": "markdown",
   "metadata": {},
   "source": [
    "Распределение рейтингов"
   ]
  },
  {
   "cell_type": "code",
   "execution_count": 12,
   "metadata": {},
   "outputs": [
    {
     "data": {
      "text/plain": [
       "<Axes: >"
      ]
     },
     "execution_count": 12,
     "metadata": {},
     "output_type": "execute_result"
    },
    {
     "data": {
      "image/png": "[encoded data removed]",
      "text/plain": [
       "<Figure size 1000x500 with 1 Axes>"
      ]
     },
     "metadata": {},
     "output_type": "display_data"
    }
   ],
   "source": [
    "data['rating'].hist(bins=50, figsize=(10,5))"
   ]
  },
  {
   "cell_type": "code",
   "execution_count": 13,
   "metadata": {},
   "outputs": [
    {
     "data": {
      "text/plain": [
       "rating\n",
       "5.0    224707\n",
       "1.0    111689\n",
       "4.0     78196\n",
       "3.0     42128\n",
       "2.0     34196\n",
       "Name: count, dtype: int64"
      ]
     },
     "execution_count": 13,
     "metadata": {},
     "output_type": "execute_result"
    }
   ],
   "source": [
    "data['rating'].value_counts()"
   ]
  },
  {
   "cell_type": "markdown",
   "metadata": {},
   "source": [
    "Видим что большая часть пользователей в основном покупали одну программу или дали только один отзыв"
   ]
  },
  {
   "cell_type": "code",
   "execution_count": 14,
   "metadata": {},
   "outputs": [
    {
     "data": {
      "text/plain": [
       "user_id\n",
       "A00577669P2XCLU956L8    1\n",
       "A00621707WIM8QF2CT5O    1\n",
       "A0065811S4ANKB4TYHII    1\n",
       "A0086201G57OY58MG97W    2\n",
       "A0101607BMUAQ65AR9LL    1\n",
       "                       ..\n",
       "AZZXPJXXADPD2           2\n",
       "AZZXVOQ8ZYK9P           1\n",
       "AZZY4E6QPTBVP           2\n",
       "AZZYTPFG6JF1K           1\n",
       "AZZYX9XK6MC8S           1\n",
       "Name: item_id, Length: 374877, dtype: int64"
      ]
     },
     "execution_count": 14,
     "metadata": {},
     "output_type": "execute_result"
    },
    {
     "data": {
      "image/png": "[encoded data removed]",
      "text/plain": [
       "<Figure size 640x480 with 1 Axes>"
      ]
     },
     "metadata": {},
     "output_type": "display_data"
    }
   ],
   "source": [
    "user_groups = data.groupby('user_id')['item_id'].count()\n",
    "user_groups[user_groups < user_groups.quantile(0.99)].hist(bins=50)\n",
    "user_groups"
   ]
  },
  {
   "cell_type": "code",
   "execution_count": 15,
   "metadata": {},
   "outputs": [
    {
     "data": {
      "text/plain": [
       "[array(['TurboTax Deluxe 2014 Fed + State + Fed Efile Tax Software - Win [Download] OLD VERSION'],\n",
       "       dtype=object),\n",
       " array(['Amazon Music [PC] [Download]'], dtype=object),\n",
       " array(['Kindle for PC [Download]'], dtype=object)]"
      ]
     },
     "execution_count": 15,
     "metadata": {},
     "output_type": "execute_result"
    },
    {
     "data": {
      "image/png": "[encoded data removed]",
      "text/plain": [
       "<Figure size 640x480 with 1 Axes>"
      ]
     },
     "metadata": {},
     "output_type": "display_data"
    }
   ],
   "source": [
    "item_groups = data.groupby('item_id')['user_id'].count()\n",
    "# посмотрим на 3 самые популярные софтины\n",
    "most_popular = item_groups.to_frame().reset_index().sort_values('user_id')[-3:]\n",
    "item_groups[item_groups < item_groups.quantile(0.99)].hist(bins=50)\n",
    "pop_items = [data[data['item_id'] == row.item_id]['title'].unique() for row in most_popular.itertuples()]\n",
    "# похоже это драйвера для устройств\n",
    "pop_items"
   ]
  },
  {
   "cell_type": "markdown",
   "metadata": {},
   "source": [
    "Преобразуем itemId и userId в индексы"
   ]
  },
  {
   "cell_type": "code",
   "execution_count": 16,
   "metadata": {},
   "outputs": [],
   "source": [
    "# маппинг id в индексы\n",
    "def get_mapping(train_data):\n",
    "    user_ids = train_data['user_id'].unique().tolist()\n",
    "    item_ids = train_data['item_id'].unique().tolist()\n",
    "\n",
    "    n_users = len(user_ids)\n",
    "    n_items = len(item_ids)\n",
    "\n",
    "    user_idx = range(n_users)\n",
    "    item_idx = range(n_items)\n",
    "\n",
    "    user_mapping = dict(zip(user_ids, user_idx)) # {user_id: user_ind}\n",
    "    item_mapping = dict(zip(item_ids, item_idx)) # {item_id: item_ind}\n",
    "    return user_mapping, item_mapping"
   ]
  },
  {
   "cell_type": "code",
   "execution_count": 17,
   "metadata": {},
   "outputs": [],
   "source": [
    "user_index, item_index = get_mapping(data)"
   ]
  },
  {
   "cell_type": "code",
   "execution_count": 18,
   "metadata": {},
   "outputs": [],
   "source": [
    "data['user_id'] = data['user_id'].map(lambda x: user_index[x])\n",
    "data['item_id']   = data['item_id'].map(lambda x: item_index[x])"
   ]
  },
  {
   "cell_type": "code",
   "execution_count": 19,
   "metadata": {},
   "outputs": [],
   "source": [
    "data = data.dropna()"
   ]
  },
  {
   "cell_type": "code",
   "execution_count": 20,
   "metadata": {},
   "outputs": [
    {
     "name": "stderr",
     "output_type": "stream",
     "text": [
      "/tmp/ipykernel_981971/382908694.py:1: SettingWithCopyWarning: \n",
      "A value is trying to be set on a copy of a slice from a DataFrame.\n",
      "Try using .loc[row_indexer,col_indexer] = value instead\n",
      "\n",
      "See the caveats in the documentation: https://pandas.pydata.org/pandas-docs/stable/user_guide/indexing.html#returning-a-view-versus-a-copy\n",
      "  data['rating'] = data['rating'].astype(int)\n"
     ]
    }
   ],
   "source": [
    "data['rating'] = data['rating'].astype(int)"
   ]
  },
  {
   "cell_type": "code",
   "execution_count": 21,
   "metadata": {},
   "outputs": [],
   "source": [
    "def filter_data(df, user_count=10, item_count=10):\n",
    "\n",
    "    user_counts = df.groupby('user_id')['item_id'].count()\n",
    "    pop_users = user_counts[user_counts > item_count]\n",
    "    df = df[df['user_id'].isin(pop_users.index)].copy()\n",
    "    return df"
   ]
  },
  {
   "cell_type": "code",
   "execution_count": 22,
   "metadata": {},
   "outputs": [
    {
     "data": {
      "text/plain": [
       "52026"
      ]
     },
     "execution_count": 22,
     "metadata": {},
     "output_type": "execute_result"
    }
   ],
   "source": [
    "data = filter_data(data, user_count=5, item_count=3)\n",
    "data.shape[0]"
   ]
  },
  {
   "cell_type": "markdown",
   "metadata": {},
   "source": [
    "Leave-one-out разбиение данных на train и test"
   ]
  },
  {
   "cell_type": "code",
   "execution_count": 23,
   "metadata": {},
   "outputs": [],
   "source": [
    "def train_test_split(X, user_col, time_col):\n",
    "  full_history = X.sort_values([user_col, time_col]).groupby(user_col)\n",
    "  test = full_history.tail(1)\n",
    "  train = full_history.head(-1)\n",
    "  return train, test"
   ]
  },
  {
   "cell_type": "code",
   "execution_count": 24,
   "metadata": {},
   "outputs": [],
   "source": [
    "train, test = train_test_split(data, 'user_id', 'timestamp')\n",
    "test = test[test['rating'] >= 4]"
   ]
  },
  {
   "cell_type": "code",
   "execution_count": 25,
   "metadata": {},
   "outputs": [
    {
     "data": {
      "text/html": [
       "<div>\n",
       "<style scoped>\n",
       "    .dataframe tbody tr th:only-of-type {\n",
       "        vertical-align: middle;\n",
       "    }\n",
       "\n",
       "    .dataframe tbody tr th {\n",
       "        vertical-align: top;\n",
       "    }\n",
       "\n",
       "    .dataframe thead th {\n",
       "        text-align: right;\n",
       "    }\n",
       "</style>\n",
       "<table border=\"1\" class=\"dataframe\">\n",
       "  <thead>\n",
       "    <tr style=\"text-align: right;\">\n",
       "      <th></th>\n",
       "      <th>item_id</th>\n",
       "      <th>user_id</th>\n",
       "      <th>rating</th>\n",
       "      <th>timestamp</th>\n",
       "      <th>title</th>\n",
       "    </tr>\n",
       "  </thead>\n",
       "  <tbody>\n",
       "    <tr>\n",
       "      <th>166317</th>\n",
       "      <td>12435</td>\n",
       "      <td>118</td>\n",
       "      <td>5</td>\n",
       "      <td>2013-01-27</td>\n",
       "      <td>Math Success Deluxe 2010 [Old Version]</td>\n",
       "    </tr>\n",
       "    <tr>\n",
       "      <th>91492</th>\n",
       "      <td>6823</td>\n",
       "      <td>118</td>\n",
       "      <td>1</td>\n",
       "      <td>2013-02-15</td>\n",
       "      <td>Hypersign 4.0 Dictionary of American Sign Lang...</td>\n",
       "    </tr>\n",
       "    <tr>\n",
       "      <th>118</th>\n",
       "      <td>58</td>\n",
       "      <td>118</td>\n",
       "      <td>5</td>\n",
       "      <td>2013-03-08</td>\n",
       "      <td>Applied Calculus Lecture Series VHS</td>\n",
       "    </tr>\n",
       "    <tr>\n",
       "      <th>129312</th>\n",
       "      <td>9895</td>\n",
       "      <td>118</td>\n",
       "      <td>5</td>\n",
       "      <td>2013-03-08</td>\n",
       "      <td>QuickStudy English Grammar</td>\n",
       "    </tr>\n",
       "    <tr>\n",
       "      <th>41315</th>\n",
       "      <td>5510</td>\n",
       "      <td>118</td>\n",
       "      <td>4</td>\n",
       "      <td>2013-04-03</td>\n",
       "      <td>History of Music and Great Composers</td>\n",
       "    </tr>\n",
       "  </tbody>\n",
       "</table>\n",
       "</div>"
      ],
      "text/plain": [
       "        item_id  user_id  rating  timestamp  \\\n",
       "166317    12435      118       5 2013-01-27   \n",
       "91492      6823      118       1 2013-02-15   \n",
       "118          58      118       5 2013-03-08   \n",
       "129312     9895      118       5 2013-03-08   \n",
       "41315      5510      118       4 2013-04-03   \n",
       "\n",
       "                                                    title  \n",
       "166317             Math Success Deluxe 2010 [Old Version]  \n",
       "91492   Hypersign 4.0 Dictionary of American Sign Lang...  \n",
       "118                   Applied Calculus Lecture Series VHS  \n",
       "129312                         QuickStudy English Grammar  \n",
       "41315                History of Music and Great Composers  "
      ]
     },
     "execution_count": 25,
     "metadata": {},
     "output_type": "execute_result"
    }
   ],
   "source": [
    "train.head()"
   ]
  },
  {
   "cell_type": "code",
   "execution_count": 26,
   "metadata": {},
   "outputs": [
    {
     "data": {
      "text/html": [
       "<div>\n",
       "<style scoped>\n",
       "    .dataframe tbody tr th:only-of-type {\n",
       "        vertical-align: middle;\n",
       "    }\n",
       "\n",
       "    .dataframe tbody tr th {\n",
       "        vertical-align: top;\n",
       "    }\n",
       "\n",
       "    .dataframe thead th {\n",
       "        text-align: right;\n",
       "    }\n",
       "</style>\n",
       "<table border=\"1\" class=\"dataframe\">\n",
       "  <thead>\n",
       "    <tr style=\"text-align: right;\">\n",
       "      <th></th>\n",
       "      <th>item_id</th>\n",
       "      <th>user_id</th>\n",
       "      <th>rating</th>\n",
       "      <th>timestamp</th>\n",
       "      <th>title</th>\n",
       "    </tr>\n",
       "  </thead>\n",
       "  <tbody>\n",
       "    <tr>\n",
       "      <th>127029</th>\n",
       "      <td>9711</td>\n",
       "      <td>118</td>\n",
       "      <td>5</td>\n",
       "      <td>2013-07-06</td>\n",
       "      <td>Mastering PhotoShop CS2 Advanced Version Train...</td>\n",
       "    </tr>\n",
       "    <tr>\n",
       "      <th>109470</th>\n",
       "      <td>8505</td>\n",
       "      <td>158</td>\n",
       "      <td>4</td>\n",
       "      <td>2017-05-02</td>\n",
       "      <td>Autodesk Planix Home Design Suite 3D</td>\n",
       "    </tr>\n",
       "    <tr>\n",
       "      <th>385498</th>\n",
       "      <td>18980</td>\n",
       "      <td>176</td>\n",
       "      <td>4</td>\n",
       "      <td>2015-01-06</td>\n",
       "      <td>TurboTax Premier 2014 Fed + State + Fed Efile ...</td>\n",
       "    </tr>\n",
       "    <tr>\n",
       "      <th>440366</th>\n",
       "      <td>20338</td>\n",
       "      <td>214</td>\n",
       "      <td>4</td>\n",
       "      <td>2015-12-12</td>\n",
       "      <td>McAfee 2016 Total Protection Unlimited Devices...</td>\n",
       "    </tr>\n",
       "    <tr>\n",
       "      <th>443104</th>\n",
       "      <td>20411</td>\n",
       "      <td>215</td>\n",
       "      <td>4</td>\n",
       "      <td>2015-12-18</td>\n",
       "      <td>Roxio Toast 14 Titanium (Old Version)</td>\n",
       "    </tr>\n",
       "  </tbody>\n",
       "</table>\n",
       "</div>"
      ],
      "text/plain": [
       "        item_id  user_id  rating  timestamp  \\\n",
       "127029     9711      118       5 2013-07-06   \n",
       "109470     8505      158       4 2017-05-02   \n",
       "385498    18980      176       4 2015-01-06   \n",
       "440366    20338      214       4 2015-12-12   \n",
       "443104    20411      215       4 2015-12-18   \n",
       "\n",
       "                                                    title  \n",
       "127029  Mastering PhotoShop CS2 Advanced Version Train...  \n",
       "109470               Autodesk Planix Home Design Suite 3D  \n",
       "385498  TurboTax Premier 2014 Fed + State + Fed Efile ...  \n",
       "440366  McAfee 2016 Total Protection Unlimited Devices...  \n",
       "443104              Roxio Toast 14 Titanium (Old Version)  "
      ]
     },
     "execution_count": 26,
     "metadata": {},
     "output_type": "execute_result"
    }
   ],
   "source": [
    "test.head()"
   ]
  },
  {
   "cell_type": "markdown",
   "metadata": {},
   "source": [
    "# Baseline"
   ]
  },
  {
   "cell_type": "code",
   "execution_count": 27,
   "metadata": {},
   "outputs": [],
   "source": [
    "from collections import Counter\n",
    "\n",
    "k = 10\n",
    "\n",
    "count_items = Counter(train['item_id'])\n",
    "count_items = [*count_items.items()]\n",
    "count_items.sort(key=lambda x: x[1], reverse=True)"
   ]
  },
  {
   "cell_type": "code",
   "execution_count": 28,
   "metadata": {},
   "outputs": [],
   "source": [
    "pred_items = [k for k, v in count_items[:k]]"
   ]
  },
  {
   "cell_type": "code",
   "execution_count": 29,
   "metadata": {},
   "outputs": [],
   "source": [
    "pred = test.copy()\n",
    "pred['preds'] = [pred_items] * len(pred)"
   ]
  },
  {
   "cell_type": "code",
   "execution_count": 30,
   "metadata": {},
   "outputs": [
    {
     "name": "stdout",
     "output_type": "stream",
     "text": [
      "mrr = 0.00678432312413569\n",
      "hr = 0.02568552585907671\n",
      "ndcg = 0.011177138249850779\n",
      "coverage = 0.001257229067136032\n"
     ]
    }
   ],
   "source": [
    "calculate_metrics(train, pred, item_id='item_id', true_col='item_id')"
   ]
  },
  {
   "cell_type": "markdown",
   "metadata": {},
   "source": [
    "# UserKNN"
   ]
  },
  {
   "cell_type": "code",
   "execution_count": 31,
   "metadata": {},
   "outputs": [],
   "source": [
    "from sklearn.metrics.pairwise import cosine_similarity\n",
    "from tqdm import tqdm\n",
    "\n",
    "def userKNN(train_data, test_data, k_neighb, k):\n",
    "    user_mapping, item_mapping = get_mapping(train_data)\n",
    "    train_data['user_id'] = train_data['user_id'].map(user_mapping)\n",
    "    test_data['user_id'] = test_data['user_id'].map(user_mapping)\n",
    "\n",
    "    R = pd.pivot_table(train_data, values='rating', index='user_id', columns='item_id', fill_value=0) # shape = n_users * n_items\n",
    "    user_sim = cosine_similarity(R) # shape = n_users * n_users\n",
    "    preds = []\n",
    "    for _, row in tqdm(test_data.iterrows()):\n",
    "        user = int(row['user_id'])\n",
    "        neighb_inds = np.argsort(user_sim[user])[::-1][1: k_neighb + 1]\n",
    "        neighb_sim = np.sort(user_sim[user])[::-1][1: k_neighb + 1]\n",
    "\n",
    "        sum_ratings = (R.iloc[neighb_inds] * neighb_sim.reshape(k_neighb, -1)).sum(axis=0)\n",
    "        sum_sim = (R.iloc[neighb_inds].astype(bool) * neighb_sim.reshape(k_neighb, -1)).sum(axis=0)\n",
    "\n",
    "        user_ratings = sum_ratings / (sum_sim + 1e-10)\n",
    "        user_ratings = pd.DataFrame(user_ratings, columns=['pred']).reset_index()\n",
    "        user_ratings.sort_values(by=['pred'], ascending=False, inplace=True)\n",
    "        preds.append(user_ratings['item_id'][:k].tolist())\n",
    "\n",
    "    pred = test_data.copy()\n",
    "    pred['preds'] = preds\n",
    "    return pred"
   ]
  },
  {
   "cell_type": "code",
   "execution_count": 32,
   "metadata": {},
   "outputs": [
    {
     "name": "stderr",
     "output_type": "stream",
     "text": [
      "5762it [00:43, 133.62it/s]\n"
     ]
    }
   ],
   "source": [
    "pred = userKNN(train, test, k_neighb=10, k=10)"
   ]
  },
  {
   "cell_type": "code",
   "execution_count": 33,
   "metadata": {},
   "outputs": [
    {
     "name": "stdout",
     "output_type": "stream",
     "text": [
      "mrr = 0.07131865588998529\n",
      "hr = 0.18726136758070114\n",
      "ndcg = 0.09819552334575987\n",
      "coverage = 0.6443298969072165\n"
     ]
    }
   ],
   "source": [
    "calculate_metrics(train, pred, item_id='item_id', true_col='item_id')"
   ]
  },
  {
   "cell_type": "markdown",
   "metadata": {},
   "source": [
    "# ALS"
   ]
  },
  {
   "cell_type": "code",
   "execution_count": 34,
   "metadata": {},
   "outputs": [],
   "source": [
    "import scipy.sparse as sparse\n",
    "\n",
    "rating = list(train.rating)\n",
    "\n",
    "rows = train.user_id.astype('category').cat.codes\n",
    "cols = train.item_id.astype('category').cat.codes\n",
    "\n",
    "train_sparse = sparse.csr_matrix((rating, (rows, cols)))"
   ]
  },
  {
   "cell_type": "code",
   "execution_count": 35,
   "metadata": {},
   "outputs": [
    {
     "data": {
      "text/plain": [
       "99.9496936737778"
      ]
     },
     "execution_count": 35,
     "metadata": {},
     "output_type": "execute_result"
    }
   ],
   "source": [
    "matrix_size = train_sparse.shape[0] * train_sparse.shape[1] # Number of possible interactions in the matrix\n",
    "num_purchases = len(train_sparse.nonzero()[0]) # Number of items interacted with\n",
    "sparsity = 100 * (1 - (num_purchases/matrix_size))\n",
    "sparsity"
   ]
  },
  {
   "cell_type": "code",
   "execution_count": 36,
   "metadata": {},
   "outputs": [
    {
     "name": "stderr",
     "output_type": "stream",
     "text": [
      "/home/nikita/anaconda3/envs/ml_env/lib/python3.12/site-packages/implicit/cpu/als.py:95: RuntimeWarning: Intel MKL BLAS is configured to use 4 threads. It is highly recommended to disable its internal threadpool by setting the environment variable 'MKL_NUM_THREADS=1' or by callng 'threadpoolctl.threadpool_limits(1, \"blas\")'. Having MKL use a threadpool can lead to severe performance issues\n",
      "  check_blas_config()\n",
      "/home/nikita/anaconda3/envs/ml_env/lib/python3.12/site-packages/implicit/cpu/als.py:95: RuntimeWarning: OpenBLAS is configured to use 4 threads. It is highly recommended to disable its internal threadpool by setting the environment variable 'OPENBLAS_NUM_THREADS=1' or by calling 'threadpoolctl.threadpool_limits(1, \"blas\")'. Having OpenBLAS use a threadpool can lead to severe performance issues here.\n",
      "  check_blas_config()\n"
     ]
    },
    {
     "data": {
      "application/vnd.jupyter.widget-view+json": {
       "model_id": "e3a445cb206741ed91bb0b5e9292ee00",
       "version_major": 2,
       "version_minor": 0
      },
      "text/plain": [
       "  0%|          | 0/50 [00:00<?, ?it/s]"
      ]
     },
     "metadata": {},
     "output_type": "display_data"
    }
   ],
   "source": [
    "import implicit\n",
    "\n",
    "algo = implicit.als.AlternatingLeastSquares(factors=50, regularization=0.1, iterations=50, use_gpu=False)\n",
    "algo.fit((train_sparse).astype('double'))"
   ]
  },
  {
   "cell_type": "code",
   "execution_count": 37,
   "metadata": {},
   "outputs": [
    {
     "name": "stdout",
     "output_type": "stream",
     "text": [
      "(8790, 7954)\n",
      "(8790, 50) (7954, 50)\n"
     ]
    }
   ],
   "source": [
    "user_vecs = algo.user_factors\n",
    "item_vecs = algo.item_factors\n",
    "# проверим по размерам, что мы действиельно не перепутали users и items\n",
    "print(train_sparse.shape)\n",
    "print(user_vecs.shape, item_vecs.shape)"
   ]
  },
  {
   "cell_type": "code",
   "execution_count": 38,
   "metadata": {},
   "outputs": [],
   "source": [
    "def predict(user_vecs, item_vecs, k=10):\n",
    "    id2user = dict(zip(rows, train.user_id))\n",
    "    id2item = dict(zip(cols, train.item_id))\n",
    "\n",
    "    scores = user_vecs.dot(item_vecs.T)\n",
    "\n",
    "    ind_part = np.argpartition(scores, -k + 1)[:, -k:].copy()\n",
    "    scores_not_sorted = np.take_along_axis(scores, ind_part, axis=1)\n",
    "    ind_sorted = np.argsort(scores_not_sorted, axis=1)\n",
    "    indices = np.take_along_axis(ind_part, ind_sorted, axis=1)\n",
    "    preds = pd.DataFrame({\n",
    "        'user_id': range(user_vecs.shape[0]),\n",
    "        'preds': np.flip(indices, axis=1).tolist()\n",
    "        })\n",
    "    preds['user_id'] = preds['user_id'].map(id2user)\n",
    "    preds['preds'] = preds['preds'].map(lambda inds: [id2item[i] for i in inds])\n",
    "    return preds"
   ]
  },
  {
   "cell_type": "code",
   "execution_count": 39,
   "metadata": {},
   "outputs": [],
   "source": [
    "preds = predict(user_vecs, item_vecs)\n",
    "preds = preds.merge(test, how='left', on='user_id')"
   ]
  },
  {
   "cell_type": "code",
   "execution_count": 40,
   "metadata": {},
   "outputs": [
    {
     "name": "stdout",
     "output_type": "stream",
     "text": [
      "mrr = 0.05541510916084295\n",
      "hr = 0.1497155858930603\n",
      "ndcg = 0.07758654798804862\n",
      "coverage = 0.12773447322102088\n"
     ]
    }
   ],
   "source": [
    "calculate_metrics(train, preds, item_id='item_id', true_col='item_id')"
   ]
  },
  {
   "cell_type": "markdown",
   "metadata": {},
   "source": [
    "# SVD"
   ]
  },
  {
   "cell_type": "code",
   "execution_count": 41,
   "metadata": {},
   "outputs": [],
   "source": [
    "import gc\n",
    "from scipy.sparse import csr_matrix\n",
    "from scipy.sparse.linalg import svds\n",
    "\n",
    "class SVD:\n",
    "    \"\"\"\n",
    "    Parameters\n",
    "    ----------\n",
    "    n_factors: размерность эмбеддингов.\n",
    "    \"\"\"\n",
    "    def __init__(self,\n",
    "                 n_factors: int=20):\n",
    "\n",
    "        self.n_factors = n_factors\n",
    "\n",
    "    def fit(self, X: pd.DataFrame):\n",
    "        \"\"\"Обучает модель.\n",
    "        \"\"\"\n",
    "        X = self._preprocess_data(X)\n",
    "\n",
    "        self.build_svd_model(X)\n",
    "\n",
    "    def _preprocess_data(self, X: pd.DataFrame):\n",
    "        \"\"\"Заменяет id  пользователей и фильмов на их индексы.\n",
    "        \"\"\"\n",
    "        X = X.copy()\n",
    "\n",
    "        self.user_ids = X['user_id'].unique().tolist()\n",
    "        self.item_ids = X['item_id'].unique().tolist()\n",
    "\n",
    "        self.n_items = len(self.item_ids)\n",
    "        self.n_users = len(self.user_ids)\n",
    "\n",
    "        item_idx = range(self.n_items)\n",
    "        user_idx = range(self.n_users)\n",
    "\n",
    "        self.item_mapping_ = dict(zip(self.item_ids, item_idx))\n",
    "        self.user_mapping_ = dict(zip(self.user_ids, user_idx))\n",
    "\n",
    "        X['item_id'] = X['item_id'].map(self.item_mapping_)\n",
    "        X['user_id'] = X['user_id'].map(self.user_mapping_)\n",
    "        return X\n",
    "\n",
    "    def generate_interactions_matrix(self, X: pd.DataFrame, n_users: int):\n",
    "        '''\n",
    "        Создает sparse matrix для обучающей выборки\n",
    "        '''\n",
    "        item_idx = X['item_id'].values\n",
    "        user_idx = X['user_id'].values\n",
    "        ratings = X['rating'].values\n",
    "        return csr_matrix(\n",
    "                (ratings, (user_idx, item_idx)),\n",
    "                shape=(n_users, self.n_items),\n",
    "                dtype=np.float64\n",
    "            )\n",
    "\n",
    "    def build_svd_model(self, X: pd.DataFrame):\n",
    "        self.matrix = self.generate_interactions_matrix(X, self.n_users)\n",
    "        _, _, vt = svds(self.matrix, k=self.n_factors, return_singular_vectors='vh')\n",
    "        self.item_factors = np.ascontiguousarray(vt[::-1, :].T, dtype=np.float32)\n",
    "\n",
    "    def predict(self):\n",
    "        # обнуление скоров для айтемов из обучающей выборки, чтобы они не попали в рекомендации\n",
    "        # учтено, что среди скоров будет достаточное количество положительных\n",
    "        return self.matrix.dot(self.item_factors) @ self.item_factors.T\n",
    "\n",
    "    def get_top_k(self, scores: np.array, k: int = 10):\n",
    "        id2item = {v: k for k, v in self.item_mapping_.items()}\n",
    "\n",
    "        ind_part = np.argpartition(scores, -k + 1)[:, -k:].copy()\n",
    "        scores_not_sorted = np.take_along_axis(scores, ind_part, axis=1)\n",
    "        ind_sorted = np.argsort(scores_not_sorted, axis=1)\n",
    "        indices = np.take_along_axis(ind_part, ind_sorted, axis=1)\n",
    "        preds = pd.DataFrame({\n",
    "            'user_id': range(user_vecs.shape[0]),\n",
    "            'preds': np.flip(indices, axis=1).tolist()\n",
    "            })\n",
    "\n",
    "        gc.collect()\n",
    "        \n",
    "        id2user = {v: k for k, v in self.user_mapping_.items()}\n",
    "        preds['user_id'] = preds['user_id'].map(id2user)\n",
    "        return preds"
   ]
  },
  {
   "cell_type": "code",
   "execution_count": 42,
   "metadata": {},
   "outputs": [],
   "source": [
    "svd = SVD(n_factors=50)\n",
    "svd.fit(train)"
   ]
  },
  {
   "cell_type": "code",
   "execution_count": 43,
   "metadata": {},
   "outputs": [],
   "source": [
    "scores = svd.predict()\n",
    "preds = svd.get_top_k(scores)\n",
    "preds = preds.merge(test, on='user_id', how='inner')"
   ]
  },
  {
   "cell_type": "code",
   "execution_count": 44,
   "metadata": {},
   "outputs": [
    {
     "data": {
      "text/html": [
       "<div>\n",
       "<style scoped>\n",
       "    .dataframe tbody tr th:only-of-type {\n",
       "        vertical-align: middle;\n",
       "    }\n",
       "\n",
       "    .dataframe tbody tr th {\n",
       "        vertical-align: top;\n",
       "    }\n",
       "\n",
       "    .dataframe thead th {\n",
       "        text-align: right;\n",
       "    }\n",
       "</style>\n",
       "<table border=\"1\" class=\"dataframe\">\n",
       "  <thead>\n",
       "    <tr style=\"text-align: right;\">\n",
       "      <th></th>\n",
       "      <th>user_id</th>\n",
       "      <th>preds</th>\n",
       "      <th>item_id</th>\n",
       "      <th>rating</th>\n",
       "      <th>timestamp</th>\n",
       "      <th>title</th>\n",
       "    </tr>\n",
       "  </thead>\n",
       "  <tbody>\n",
       "    <tr>\n",
       "      <th>0</th>\n",
       "      <td>0</td>\n",
       "      <td>[1524, 1968, 1518, 1998, 1784, 424, 391, 263, ...</td>\n",
       "      <td>9711</td>\n",
       "      <td>5</td>\n",
       "      <td>2013-07-06</td>\n",
       "      <td>Mastering PhotoShop CS2 Advanced Version Train...</td>\n",
       "    </tr>\n",
       "    <tr>\n",
       "      <th>1</th>\n",
       "      <td>2</td>\n",
       "      <td>[1968, 1973, 1961, 1971, 976, 1970, 1224, 1596...</td>\n",
       "      <td>8505</td>\n",
       "      <td>4</td>\n",
       "      <td>2017-05-02</td>\n",
       "      <td>Autodesk Planix Home Design Suite 3D</td>\n",
       "    </tr>\n",
       "    <tr>\n",
       "      <th>2</th>\n",
       "      <td>3</td>\n",
       "      <td>[26, 1160, 1239, 1235, 754, 1238, 31, 1233, 30...</td>\n",
       "      <td>18980</td>\n",
       "      <td>4</td>\n",
       "      <td>2015-01-06</td>\n",
       "      <td>TurboTax Premier 2014 Fed + State + Fed Efile ...</td>\n",
       "    </tr>\n",
       "    <tr>\n",
       "      <th>3</th>\n",
       "      <td>5</td>\n",
       "      <td>[181, 301, 575, 130, 1114, 986, 207, 568, 294,...</td>\n",
       "      <td>20338</td>\n",
       "      <td>4</td>\n",
       "      <td>2015-12-12</td>\n",
       "      <td>McAfee 2016 Total Protection Unlimited Devices...</td>\n",
       "    </tr>\n",
       "    <tr>\n",
       "      <th>4</th>\n",
       "      <td>6</td>\n",
       "      <td>[301, 575, 1298, 986, 130, 58, 207, 1114, 144,...</td>\n",
       "      <td>20411</td>\n",
       "      <td>4</td>\n",
       "      <td>2015-12-18</td>\n",
       "      <td>Roxio Toast 14 Titanium (Old Version)</td>\n",
       "    </tr>\n",
       "    <tr>\n",
       "      <th>...</th>\n",
       "      <td>...</td>\n",
       "      <td>...</td>\n",
       "      <td>...</td>\n",
       "      <td>...</td>\n",
       "      <td>...</td>\n",
       "      <td>...</td>\n",
       "    </tr>\n",
       "    <tr>\n",
       "      <th>5757</th>\n",
       "      <td>8783</td>\n",
       "      <td>[263, 217, 267, 394, 127, 1581, 204, 275, 216,...</td>\n",
       "      <td>20893</td>\n",
       "      <td>5</td>\n",
       "      <td>2017-05-09</td>\n",
       "      <td>H&amp;amp;R Block 2015 Deluxe + State Tax Software...</td>\n",
       "    </tr>\n",
       "    <tr>\n",
       "      <th>5758</th>\n",
       "      <td>8784</td>\n",
       "      <td>[263, 217, 267, 394, 127, 1581, 275, 216, 576,...</td>\n",
       "      <td>21628</td>\n",
       "      <td>5</td>\n",
       "      <td>2017-04-05</td>\n",
       "      <td>CorelDRAW Home &amp;amp; Student Suite X8 for PC (...</td>\n",
       "    </tr>\n",
       "    <tr>\n",
       "      <th>5759</th>\n",
       "      <td>8785</td>\n",
       "      <td>[263, 217, 267, 81, 204, 127, 1581, 205, 216, ...</td>\n",
       "      <td>20744</td>\n",
       "      <td>5</td>\n",
       "      <td>2018-03-10</td>\n",
       "      <td>Norton Security Deluxe &amp;ndash; 3 Devices &amp;ndas...</td>\n",
       "    </tr>\n",
       "    <tr>\n",
       "      <th>5760</th>\n",
       "      <td>8786</td>\n",
       "      <td>[204, 1378, 2001, 488, 1224, 974, 1518, 1809, ...</td>\n",
       "      <td>20687</td>\n",
       "      <td>4</td>\n",
       "      <td>2015-12-16</td>\n",
       "      <td>GMAT Focus Online Quantitative Diagnostic Tool...</td>\n",
       "    </tr>\n",
       "    <tr>\n",
       "      <th>5761</th>\n",
       "      <td>8789</td>\n",
       "      <td>[518, 431, 226, 2507, 529, 8, 263, 1231, 401, ...</td>\n",
       "      <td>20904</td>\n",
       "      <td>5</td>\n",
       "      <td>2015-12-16</td>\n",
       "      <td>TurboTax Deluxe 2015 Federal + Fed Efile Tax P...</td>\n",
       "    </tr>\n",
       "  </tbody>\n",
       "</table>\n",
       "<p>5762 rows × 6 columns</p>\n",
       "</div>"
      ],
      "text/plain": [
       "      user_id                                              preds  item_id  \\\n",
       "0           0  [1524, 1968, 1518, 1998, 1784, 424, 391, 263, ...     9711   \n",
       "1           2  [1968, 1973, 1961, 1971, 976, 1970, 1224, 1596...     8505   \n",
       "2           3  [26, 1160, 1239, 1235, 754, 1238, 31, 1233, 30...    18980   \n",
       "3           5  [181, 301, 575, 130, 1114, 986, 207, 568, 294,...    20338   \n",
       "4           6  [301, 575, 1298, 986, 130, 58, 207, 1114, 144,...    20411   \n",
       "...       ...                                                ...      ...   \n",
       "5757     8783  [263, 217, 267, 394, 127, 1581, 204, 275, 216,...    20893   \n",
       "5758     8784  [263, 217, 267, 394, 127, 1581, 275, 216, 576,...    21628   \n",
       "5759     8785  [263, 217, 267, 81, 204, 127, 1581, 205, 216, ...    20744   \n",
       "5760     8786  [204, 1378, 2001, 488, 1224, 974, 1518, 1809, ...    20687   \n",
       "5761     8789  [518, 431, 226, 2507, 529, 8, 263, 1231, 401, ...    20904   \n",
       "\n",
       "      rating  timestamp                                              title  \n",
       "0          5 2013-07-06  Mastering PhotoShop CS2 Advanced Version Train...  \n",
       "1          4 2017-05-02               Autodesk Planix Home Design Suite 3D  \n",
       "2          4 2015-01-06  TurboTax Premier 2014 Fed + State + Fed Efile ...  \n",
       "3          4 2015-12-12  McAfee 2016 Total Protection Unlimited Devices...  \n",
       "4          4 2015-12-18              Roxio Toast 14 Titanium (Old Version)  \n",
       "...      ...        ...                                                ...  \n",
       "5757       5 2017-05-09  H&amp;R Block 2015 Deluxe + State Tax Software...  \n",
       "5758       5 2017-04-05  CorelDRAW Home &amp; Student Suite X8 for PC (...  \n",
       "5759       5 2018-03-10  Norton Security Deluxe &ndash; 3 Devices &ndas...  \n",
       "5760       4 2015-12-16  GMAT Focus Online Quantitative Diagnostic Tool...  \n",
       "5761       5 2015-12-16  TurboTax Deluxe 2015 Federal + Fed Efile Tax P...  \n",
       "\n",
       "[5762 rows x 6 columns]"
      ]
     },
     "execution_count": 44,
     "metadata": {},
     "output_type": "execute_result"
    }
   ],
   "source": [
    "preds"
   ]
  },
  {
   "cell_type": "code",
   "execution_count": 45,
   "metadata": {},
   "outputs": [
    {
     "name": "stdout",
     "output_type": "stream",
     "text": [
      "mrr = 0.00017355085039916696\n",
      "hr = 0.00017355085039916696\n",
      "ndcg = 0.00017355085039916696\n",
      "coverage = 0.07568518984158913\n"
     ]
    }
   ],
   "source": [
    "calculate_metrics(train, preds, item_id='item_id', true_col='item_id')"
   ]
  },
  {
   "cell_type": "markdown",
   "metadata": {},
   "source": [
    "# Вывод"
   ]
  },
  {
   "cell_type": "markdown",
   "metadata": {},
   "source": [
    "Лучше всего себя показали модели userKNN и ALS  \n",
    "  \n",
    "Но самые высокие метрики показала userKNN:  \n",
    "* mrr = 0.07 - модель как-то может показать первый релевантный элемент в топ-k  \n",
    "* hr = 0.187 - высокая доля юзеров для которых хотя бы один элемент из первых k рекомендаций релевантен  \n",
    "* ndcg = 0.098 - насколько алгоритм способен сортировать элементы по релевантности  \n",
    "* coverage = 0.64 - высокий процент товаров из трейна модель может порекомендовать"
   ]
  }
 ],
 "metadata": {
  "kernelspec": {
   "display_name": "Python 3",
   "language": "python",
   "name": "python3"
  },
  "language_info": {
   "codemirror_mode": {
    "name": "ipython",
    "version": 3
   },
   "file_extension": ".py",
   "mimetype": "text/x-python",
   "name": "python",
   "nbconvert_exporter": "python",
   "pygments_lexer": "ipython3",
   "version": "3.12.2"
  }
 },
 "nbformat": 4,
 "nbformat_minor": 2
}
